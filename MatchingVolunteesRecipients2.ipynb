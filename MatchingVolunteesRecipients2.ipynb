{
 "cells": [
  {
   "cell_type": "markdown",
   "metadata": {},
   "source": [
    "# Matching volunteers to recipients\n",
    "## Task\n",
    "Given:\n",
    "- scv **tables of parameters** (what's requested, location, etc) coded simply in 0 and 1 (as NO and YES)\n",
    "- **table of importance** of weighted parameters (what's requested is more important then location), from 0 to 10\n",
    "    - 0: do not take this silimarity into account; \n",
    "    - 10: most important\n",
    "\n",
    "Make a pairing for volunteers and recipients baised on they weighted similarity "
   ]
  },
  {
   "cell_type": "markdown",
   "metadata": {},
   "source": [
    "## Data\n",
    "collected from volunteer and recipient questionnaires performed in Google Forms\n",
    "\n",
    "Volunteer Questionnaire:\n",
    "https://forms.gle/8sRETZybcqzSrQTU6\n",
    "\n",
    "Recipient Questionnaire:\n",
    "https://forms.gle/Z1w9FtEvphtDm8547\n",
    "\n",
    "<table>\n",
    "  <td>  \n",
    "      <img src=\"figures/VQv.jpg\">\n",
    "  </td>  \n",
    "  <td>\n",
    "      <img src=\"figures/RQv.jpg\">\n",
    "  </td>\n",
    "</table>\n",
    "\n",
    "After filling, answers can be downloaded as CSV file:\n",
    "<table>\n",
    "  <tr>  \n",
    "      <img src=\"figures/VolT.jpg\">\n",
    "  </tr>  \n",
    "  <tr>\n",
    "      <img src=\"figures/ResT.jpg\">\n",
    "  </tr>\n",
    "</table>"
   ]
  },
  {
   "cell_type": "code",
   "execution_count": 1,
   "metadata": {},
   "outputs": [],
   "source": [
    "import pandas as pd\n",
    "import numpy as np\n",
    "import seaborn as sns\n",
    "import matplotlib.pyplot as plt"
   ]
  },
  {
   "cell_type": "code",
   "execution_count": 4,
   "metadata": {},
   "outputs": [
    {
     "data": {
      "text/html": [
       "<div>\n",
       "<style scoped>\n",
       "    .dataframe tbody tr th:only-of-type {\n",
       "        vertical-align: middle;\n",
       "    }\n",
       "\n",
       "    .dataframe tbody tr th {\n",
       "        vertical-align: top;\n",
       "    }\n",
       "\n",
       "    .dataframe thead th {\n",
       "        text-align: right;\n",
       "    }\n",
       "</style>\n",
       "<table border=\"1\" class=\"dataframe\">\n",
       "  <thead>\n",
       "    <tr style=\"text-align: right;\">\n",
       "      <th></th>\n",
       "      <th>Timestamp</th>\n",
       "      <th>How would you like to help?</th>\n",
       "      <th>Location</th>\n",
       "      <th>Would you help any of people listed below first?</th>\n",
       "      <th>Language of communication</th>\n",
       "      <th>Can you take such requests:</th>\n",
       "      <th>Contact Name</th>\n",
       "      <th>e-mail</th>\n",
       "      <th>phone</th>\n",
       "    </tr>\n",
       "  </thead>\n",
       "  <tbody>\n",
       "    <tr>\n",
       "      <th>0</th>\n",
       "      <td>4/13/2020 17:45:21</td>\n",
       "      <td>Buy and deliver groceries, I will pay for  gro...</td>\n",
       "      <td>Southwest Portland, Beaverton, Hillsboro</td>\n",
       "      <td>Tested COVID-19 positive, Feeling sick,hes not...</td>\n",
       "      <td>English, Russian</td>\n",
       "      <td>Emmergency, Urgent, Not urgent</td>\n",
       "      <td>Vera</td>\n",
       "      <td>vera.tsintsadze@gmail.com</td>\n",
       "      <td>503-407-****</td>\n",
       "    </tr>\n",
       "    <tr>\n",
       "      <th>1</th>\n",
       "      <td>4/13/2020 21:20:09</td>\n",
       "      <td>Buy and deliver groceries, recipient will refu...</td>\n",
       "      <td>North Portland, East Portland, Northeast Portl...</td>\n",
       "      <td>Tested COVID-19 positive, Feeling sick,hes not...</td>\n",
       "      <td>English, Spanish</td>\n",
       "      <td>Emmergency, Urgent, Not urgent</td>\n",
       "      <td>Superman</td>\n",
       "      <td>superman@powers.org</td>\n",
       "      <td>NaN</td>\n",
       "    </tr>\n",
       "    <tr>\n",
       "      <th>2</th>\n",
       "      <td>4/13/2020 21:21:16</td>\n",
       "      <td>Donate money to households in need</td>\n",
       "      <td>North Portland, East Portland, Northeast Portl...</td>\n",
       "      <td>NaN</td>\n",
       "      <td>English, Viethnamise</td>\n",
       "      <td>NaN</td>\n",
       "      <td>Goodman</td>\n",
       "      <td>goodman@goodman.com</td>\n",
       "      <td>NaN</td>\n",
       "    </tr>\n",
       "  </tbody>\n",
       "</table>\n",
       "</div>"
      ],
      "text/plain": [
       "            Timestamp                        How would you like to help?  \\\n",
       "0  4/13/2020 17:45:21  Buy and deliver groceries, I will pay for  gro...   \n",
       "1  4/13/2020 21:20:09  Buy and deliver groceries, recipient will refu...   \n",
       "2  4/13/2020 21:21:16                 Donate money to households in need   \n",
       "\n",
       "                                            Location  \\\n",
       "0           Southwest Portland, Beaverton, Hillsboro   \n",
       "1  North Portland, East Portland, Northeast Portl...   \n",
       "2  North Portland, East Portland, Northeast Portl...   \n",
       "\n",
       "    Would you help any of people listed below first?  \\\n",
       "0  Tested COVID-19 positive, Feeling sick,hes not...   \n",
       "1  Tested COVID-19 positive, Feeling sick,hes not...   \n",
       "2                                                NaN   \n",
       "\n",
       "  Language of communication     Can you take such requests: Contact Name  \\\n",
       "0          English, Russian  Emmergency, Urgent, Not urgent         Vera   \n",
       "1          English, Spanish  Emmergency, Urgent, Not urgent     Superman   \n",
       "2      English, Viethnamise                             NaN      Goodman   \n",
       "\n",
       "                      e-mail         phone  \n",
       "0  vera.tsintsadze@gmail.com  503-407-****  \n",
       "1        superman@powers.org           NaN  \n",
       "2        goodman@goodman.com           NaN  "
      ]
     },
     "execution_count": 4,
     "metadata": {},
     "output_type": "execute_result"
    }
   ],
   "source": [
    "#Load csv files of questionnaire resposes\n",
    "volunteers = pd.read_csv ('Volunteer questionnaire (Responses) - Form Responses 1.csv')\n",
    "recipients = pd.read_csv ('Recipient Questionnaire (Responses) - Form Responses 1.csv')\n",
    "N_volunteers = volunteers.shape[0]\n",
    "N_recipients = recipients.shape[0]\n",
    "volunteers.head()"
   ]
  },
  {
   "cell_type": "markdown",
   "metadata": {},
   "source": [
    "*ParameterImportance.csv* file has the list of parameters, their meaning in both volunteer and recipient questionnairs, their initial value and the importanse.\n",
    "Importance of a parameter means a contribution of this parameter in the sililary coefficients, i.e. it's weight."
   ]
  },
  {
   "cell_type": "code",
   "execution_count": 5,
   "metadata": {},
   "outputs": [
    {
     "data": {
      "text/html": [
       "<div>\n",
       "<style scoped>\n",
       "    .dataframe tbody tr th:only-of-type {\n",
       "        vertical-align: middle;\n",
       "    }\n",
       "\n",
       "    .dataframe tbody tr th {\n",
       "        vertical-align: top;\n",
       "    }\n",
       "\n",
       "    .dataframe thead th {\n",
       "        text-align: right;\n",
       "    }\n",
       "</style>\n",
       "<table border=\"1\" class=\"dataframe\">\n",
       "  <thead>\n",
       "    <tr style=\"text-align: right;\">\n",
       "      <th></th>\n",
       "      <th>Variable_name</th>\n",
       "      <th>Question_volunteer</th>\n",
       "      <th>Answer_volunteer</th>\n",
       "      <th>Question_recipient</th>\n",
       "      <th>Answer_recipient</th>\n",
       "      <th>ImportanceCoef</th>\n",
       "      <th>Innitial_values</th>\n",
       "    </tr>\n",
       "  </thead>\n",
       "  <tbody>\n",
       "    <tr>\n",
       "      <th>0</th>\n",
       "      <td>OR_bdpg</td>\n",
       "      <td>How would you like to help?</td>\n",
       "      <td>Buy and deliver groceries, I will pay for  gro...</td>\n",
       "      <td>What kind of help do you need?</td>\n",
       "      <td>Buy and deliver groceries, volunteer will need...</td>\n",
       "      <td>10</td>\n",
       "      <td>0</td>\n",
       "    </tr>\n",
       "    <tr>\n",
       "      <th>1</th>\n",
       "      <td>OR_bdg</td>\n",
       "      <td>How would you like to help?</td>\n",
       "      <td>Buy and deliver groceries, recipient will refu...</td>\n",
       "      <td>What kind of help do you need?</td>\n",
       "      <td>Buy and deliver groceries, I will refund cost</td>\n",
       "      <td>10</td>\n",
       "      <td>1</td>\n",
       "    </tr>\n",
       "    <tr>\n",
       "      <th>2</th>\n",
       "      <td>OR_bdpm</td>\n",
       "      <td>How would you like to help?</td>\n",
       "      <td>Buy and deliver out-of-counter medicine, I wil...</td>\n",
       "      <td>What kind of help do you need?</td>\n",
       "      <td>Buy and deliver out-of-counter medicine, volun...</td>\n",
       "      <td>10</td>\n",
       "      <td>0</td>\n",
       "    </tr>\n",
       "    <tr>\n",
       "      <th>3</th>\n",
       "      <td>OR_bdm</td>\n",
       "      <td>How would you like to help?</td>\n",
       "      <td>Buy and deliver out-of-counter medicine, recip...</td>\n",
       "      <td>What kind of help do you need?</td>\n",
       "      <td>Buy and deliver out-of-counter medicine, I wil...</td>\n",
       "      <td>10</td>\n",
       "      <td>0</td>\n",
       "    </tr>\n",
       "    <tr>\n",
       "      <th>4</th>\n",
       "      <td>OR_bs</td>\n",
       "      <td>How would you like to help?</td>\n",
       "      <td>Babyseating</td>\n",
       "      <td>What kind of help do you need?</td>\n",
       "      <td>Babyseating</td>\n",
       "      <td>10</td>\n",
       "      <td>0</td>\n",
       "    </tr>\n",
       "  </tbody>\n",
       "</table>\n",
       "</div>"
      ],
      "text/plain": [
       "  Variable_name           Question_volunteer  \\\n",
       "0       OR_bdpg  How would you like to help?   \n",
       "1        OR_bdg  How would you like to help?   \n",
       "2       OR_bdpm  How would you like to help?   \n",
       "3        OR_bdm  How would you like to help?   \n",
       "4         OR_bs  How would you like to help?   \n",
       "\n",
       "                                    Answer_volunteer  \\\n",
       "0  Buy and deliver groceries, I will pay for  gro...   \n",
       "1  Buy and deliver groceries, recipient will refu...   \n",
       "2  Buy and deliver out-of-counter medicine, I wil...   \n",
       "3  Buy and deliver out-of-counter medicine, recip...   \n",
       "4                                        Babyseating   \n",
       "\n",
       "               Question_recipient  \\\n",
       "0  What kind of help do you need?   \n",
       "1  What kind of help do you need?   \n",
       "2  What kind of help do you need?   \n",
       "3  What kind of help do you need?   \n",
       "4  What kind of help do you need?   \n",
       "\n",
       "                                    Answer_recipient  ImportanceCoef  \\\n",
       "0  Buy and deliver groceries, volunteer will need...              10   \n",
       "1      Buy and deliver groceries, I will refund cost              10   \n",
       "2  Buy and deliver out-of-counter medicine, volun...              10   \n",
       "3  Buy and deliver out-of-counter medicine, I wil...              10   \n",
       "4                                        Babyseating              10   \n",
       "\n",
       "   Innitial_values  \n",
       "0                0  \n",
       "1                1  \n",
       "2                0  \n",
       "3                0  \n",
       "4                0  "
      ]
     },
     "execution_count": 5,
     "metadata": {},
     "output_type": "execute_result"
    }
   ],
   "source": [
    "Importance = pd.read_csv ('ParameterImportance.csv', sep='\\t')\n",
    "Importance.head()"
   ]
  },
  {
   "cell_type": "code",
   "execution_count": 6,
   "metadata": {},
   "outputs": [],
   "source": [
    "List_of_vars = Importance['Variable_name'].tolist()\n",
    "N_vars = len(List_of_vars)\n",
    "###Initiation of matricies V and R\n",
    "V = pd.DataFrame(data = np.zeros([N_volunteers, N_vars]), columns = List_of_vars)\n",
    "R = pd.DataFrame(data = np.zeros([N_recipients, N_vars]), columns = List_of_vars)\n",
    "for var in List_of_vars:\n",
    "    indx = Importance.index[Importance['Variable_name']==var].tolist()[0]\n",
    "    V[var] = Importance.loc[indx,'Innitial_values']\n",
    "    R[var] = Importance.loc[indx,'Innitial_values']"
   ]
  },
  {
   "cell_type": "markdown",
   "metadata": {},
   "source": [
    "Now we need to transform responses to questions from *volunteers* and *recipients* DataFrames into 1s and 0s of V andR dataframes"
   ]
  },
  {
   "cell_type": "code",
   "execution_count": 7,
   "metadata": {},
   "outputs": [],
   "source": [
    "#volunteers\n",
    "for var in List_of_vars:\n",
    "    for indx_V in V.index:                                  #iterating throw the variables and volunteers\n",
    "        indx_imp = Importance.index[Importance['Variable_name']==var].tolist()[0]\n",
    "        Ques = Importance.iloc[indx_imp]['Question_volunteer'] #find the str name of the question in Importance dataframe\n",
    "        Ans = Importance.iloc[indx_imp]['Answer_volunteer']    #answer\n",
    "        try:\n",
    "            if Ans in volunteers.loc[indx_V][Ques]:  #is the Ans corresponding to the variable name in the long string of volunteers?\n",
    "            #put 1 in the V dataframe\n",
    "                V.loc[indx_V, var] = 1\n",
    "            else:\n",
    "                V.loc[indx_V, var] = 0\n",
    "        except:\n",
    "            None     \n",
    "#same for recipients\n",
    "for var in List_of_vars:\n",
    "    for indx_R in R.index:                                  #iterating throw the variables and volunteers\n",
    "        indx_imp = Importance.index[Importance['Variable_name']==var].tolist()[0]\n",
    "        Ques = Importance.iloc[indx_imp]['Question_recipient'] #find the str name of the question in Importance dataframe\n",
    "        Ans = Importance.iloc[indx_imp]['Answer_recipient']    #answer\n",
    "        try:\n",
    "            if Ans in recipients.loc[indx_R][Ques]:  #is the Ans corresponding to the variable name in the long string of volunteers?\n",
    "            #put 1 in the V dataframe\n",
    "                R.loc[indx_R, var] = 1\n",
    "            else:\n",
    "                R.loc[indx_R, var] = 0\n",
    "        except:\n",
    "            None"
   ]
  },
  {
   "cell_type": "code",
   "execution_count": 8,
   "metadata": {},
   "outputs": [
    {
     "name": "stdout",
     "output_type": "stream",
     "text": [
      "(3, 29) (4, 29)\n"
     ]
    }
   ],
   "source": [
    "print(V.shape, R.shape)"
   ]
  },
  {
   "cell_type": "code",
   "execution_count": 9,
   "metadata": {},
   "outputs": [
    {
     "name": "stdout",
     "output_type": "stream",
     "text": [
      "(3, 29) (4, 29)\n"
     ]
    }
   ],
   "source": [
    "#Get numpy arrays from V and R for calculating similarity\n",
    "npV = V.to_numpy()\n",
    "npR = R.to_numpy()\n",
    "print(npV.shape, npR.shape)"
   ]
  },
  {
   "cell_type": "code",
   "execution_count": 10,
   "metadata": {},
   "outputs": [],
   "source": [
    "#Weights for making decision\n",
    "ImportCoef = Importance['ImportanceCoef'].values"
   ]
  },
  {
   "cell_type": "markdown",
   "metadata": {},
   "source": [
    "### Cosine Similarity\n",
    "\n",
    "K(X, Y) = <X, Y> / (||X||*||Y||); normalized dot product of X and Y\n",
    "<img src=\"figures/index.png\">"
   ]
  },
  {
   "cell_type": "markdown",
   "metadata": {},
   "source": [
    "RETURN algo.similarity.cosine([3,8,7,5,2,9], [10,8,6,6,4,5]) AS similarity\n",
    "<img src=\"figures/cosine-similarity2.png\">"
   ]
  },
  {
   "cell_type": "code",
   "execution_count": 11,
   "metadata": {},
   "outputs": [],
   "source": [
    "#weighted cosine similarity from scratch\n",
    "def weighted_sim_coef (A,B,I):  #for 1D np.arrays of the same length\n",
    "    dev = np.sqrt(np.sum(np.square(A)))*np.sqrt(np.sum(np.square(B)))\n",
    "    return np.sum(A*B*I)/dev        "
   ]
  },
  {
   "cell_type": "code",
   "execution_count": null,
   "metadata": {},
   "outputs": [],
   "source": []
  },
  {
   "cell_type": "code",
   "execution_count": 13,
   "metadata": {},
   "outputs": [
    {
     "data": {
      "text/plain": [
       "7.071428571428571"
      ]
     },
     "execution_count": 13,
     "metadata": {},
     "output_type": "execute_result"
    }
   ],
   "source": [
    "#Similarity of first recipient to first volunteer\n",
    "weighted_sim_coef (npV[0,:],npV[0,:],ImportCoef)"
   ]
  },
  {
   "cell_type": "code",
   "execution_count": 14,
   "metadata": {},
   "outputs": [
    {
     "name": "stdout",
     "output_type": "stream",
     "text": [
      "Similarity of first recipient to all volunteers [5.3452248382484875, 3.5634832254989917, 2.519763153394848]\n",
      "Biggest similarity volunteer 0\n"
     ]
    }
   ],
   "source": [
    "#Similarity of first recipient to all volunteers\n",
    "Sim_for_first_rec = []\n",
    "for v in range(N_volunteers):\n",
    "    Sim_for_first_rec.append(weighted_sim_coef (npR[0,:],npV[v,:],ImportCoef))\n",
    "print ('Similarity of first recipient to all volunteers', Sim_for_first_rec)\n",
    "print('Biggest similarity volunteer', np.argmax(Sim_for_first_rec))"
   ]
  },
  {
   "cell_type": "code",
   "execution_count": 15,
   "metadata": {},
   "outputs": [
    {
     "data": {
      "text/plain": [
       "array([[5.34522484, 3.56348323, 2.51976315],\n",
       "       [2.1514115 , 2.03188864, 1.35224681],\n",
       "       [4.16619045, 2.62315695, 3.70970413],\n",
       "       [1.06904497, 1.46993683, 2.0788046 ]])"
      ]
     },
     "execution_count": 15,
     "metadata": {},
     "output_type": "execute_result"
    }
   ],
   "source": [
    "#Similarity of first recipient to all volunteers\n",
    "Sim_for_all = np.zeros((N_recipients, N_volunteers))\n",
    "for r in range(N_recipients):\n",
    "    for v in range(N_volunteers):\n",
    "        Sim_for_all[r,v] = (weighted_sim_coef (npR[r,:],npV[v,:],ImportCoef))\n",
    "Sim_for_all"
   ]
  },
  {
   "cell_type": "code",
   "execution_count": 16,
   "metadata": {},
   "outputs": [
    {
     "data": {
      "image/png": "[encoded data removed]",
      "text/plain": [
       "<Figure size 432x288 with 1 Axes>"
      ]
     },
     "metadata": {
      "needs_background": "light"
     },
     "output_type": "display_data"
    }
   ],
   "source": [
    "#Visualization: darker red - more similar are recipient-volunteer pair\n",
    "sns.heatmap(Sim_for_all, cmap=\"Reds\", cbar=False)\n",
    "plt.title('Weighted Cosine Sililarity', fontsize=20)\n",
    "plt.xlabel('volunteer', fontsize=15)\n",
    "plt.ylabel('recipient', fontsize=15)\n",
    "plt.show()"
   ]
  }
 ],
 "metadata": {
  "kernelspec": {
   "display_name": "Python 3",
   "language": "python",
   "name": "python3"
  },
  "language_info": {
   "codemirror_mode": {
    "name": "ipython",
    "version": 3
   },
   "file_extension": ".py",
   "mimetype": "text/x-python",
   "name": "python",
   "nbconvert_exporter": "python",
   "pygments_lexer": "ipython3",
   "version": "3.7.6"
  }
 },
 "nbformat": 4,
 "nbformat_minor": 4
}
